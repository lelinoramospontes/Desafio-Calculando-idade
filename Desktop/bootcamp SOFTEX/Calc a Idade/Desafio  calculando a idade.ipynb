{
 "cells": [
  {
   "cell_type": "markdown",
   "id": "7e5864a7",
   "metadata": {},
   "source": [
    "# Desenvolva um programa que recebe do usuário nome completo e ano de nascimento que seja entre 1922 e 2021. A partir dessas informações, o sistema mostrará o nome do usuário e a idade que completou, ou completará, no ano atual (2022).\n",
    "\n",
    "Caso o usuário não digite um número ou apareça um inválido no campo do ano, o sistema informará o erro e continuará perguntando até que um valor correto seja preenchido.\n"
   ]
  },
  {
   "cell_type": "code",
   "execution_count": 2,
   "id": "aa5f4841",
   "metadata": {},
   "outputs": [
    {
     "name": "stdout",
     "output_type": "stream",
     "text": [
      "Digite o ano de nacimento (ex:1979)\n",
      "1300\n",
      "data inválida\n",
      "Digite o ano de nacimento (ex:1979)\n",
      ",\n",
      "Caracter inválido, por favor digite a data no formato (Ex:1980)\n",
      "Digite o ano de nacimento (ex:1979)\n",
      "2000\n",
      "Digite o seu nome completo\n",
      "Carlos da Silva Andrade\n",
      "Usuario: Carlos da Silva Andrade, idade:22\n"
     ]
    }
   ],
   "source": [
    "\n",
    "dataCorreta = False\n",
    "while (dataCorreta == False):\n",
    "    print('Digite o ano de nacimento (ex:1979)')\n",
    "    try:\n",
    "        data=int(input())   \n",
    "        if data>1922 and data<2021:\n",
    "            print('\\nDigite o seu nome completo')\n",
    "            nome =str(input())\n",
    "            idade=(2022-data)\n",
    "            print(\"Usuario: {}, idade:{}\".format(nome,idade))\n",
    "            dataCorreta = True\n",
    "        else:print('data inválida!')\n",
    "\n",
    "    except:print(\"Caracter inválido, por favor digite a data no formato (Ex:1980)\")"
   ]
  },
  {
   "cell_type": "code",
   "execution_count": null,
   "id": "23352a05",
   "metadata": {},
   "outputs": [],
   "source": []
  }
 ],
 "metadata": {
  "kernelspec": {
   "display_name": "Python 3 (ipykernel)",
   "language": "python",
   "name": "python3"
  },
  "language_info": {
   "codemirror_mode": {
    "name": "ipython",
    "version": 3
   },
   "file_extension": ".py",
   "mimetype": "text/x-python",
   "name": "python",
   "nbconvert_exporter": "python",
   "pygments_lexer": "ipython3",
   "version": "3.9.7"
  }
 },
 "nbformat": 4,
 "nbformat_minor": 5
}
